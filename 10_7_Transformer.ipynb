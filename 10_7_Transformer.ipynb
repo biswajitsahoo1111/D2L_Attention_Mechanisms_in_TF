{
 "cells": [
  {
   "cell_type": "code",
   "execution_count": 1,
   "metadata": {},
   "outputs": [
    {
     "name": "stdout",
     "output_type": "stream",
     "text": [
      "Tensorflow Version:  2.5.0\n"
     ]
    }
   ],
   "source": [
    "import tensorflow as tf\n",
    "print(\"Tensorflow Version: \", tf.__version__)"
   ]
  },
  {
   "cell_type": "code",
   "execution_count": 2,
   "metadata": {},
   "outputs": [],
   "source": [
    "import numpy as np\n",
    "import pandas as pd"
   ]
  },
  {
   "cell_type": "code",
   "execution_count": 3,
   "metadata": {},
   "outputs": [],
   "source": [
    "from saved_class_MultiHeadAttention import MultiHeadAttention\n",
    "from saved_class_PositionalEncoding import PositionalEncoding\n",
    "from saved_class_Encoder import Encoder\n",
    "from saved_class_AttentionDecoder import AttentionDecoder\n",
    "from saved_class_EncoderDecoder import EncoderDecoder\n",
    "\n",
    "from saved_func_bleu import bleu\n",
    "from saved_func_try_gpu import try_gpu\n",
    "from saved_func_load_data_nmt import *\n",
    "from saved_func_train_seq2seq import train_seq2seq\n",
    "from saved_func_predict_seq2seq import predict_seq2seq\n",
    "from saved_func_show_heatmaps import show_heatmaps"
   ]
  },
  {
   "cell_type": "markdown",
   "metadata": {},
   "source": [
    "## Position-wise feed forward networks"
   ]
  },
  {
   "cell_type": "code",
   "execution_count": 4,
   "metadata": {},
   "outputs": [],
   "source": [
    "class PositionWiseFFN(tf.keras.layers.Layer):\n",
    "    def __init__(self, ffn_num_hiddens, ffn_num_outputs, **kwargs):\n",
    "        super().__init__(*kwargs)\n",
    "        self.dense1 = tf.keras.layers.Dense(ffn_num_hiddens)\n",
    "        self.relu = tf.keras.layers.ReLU()\n",
    "        self.dense2 = tf.keras.layers.Dense(ffn_num_outputs)\n",
    "\n",
    "    def call(self, X):\n",
    "        return self.dense2(self.relu(self.dense1(X)))"
   ]
  },
  {
   "cell_type": "code",
   "execution_count": 5,
   "metadata": {},
   "outputs": [
    {
     "data": {
      "text/plain": [
       "<tf.Tensor: shape=(3, 8), dtype=float32, numpy=\n",
       "array([[ 1.1065816 ,  0.6761679 ,  0.33520514, -0.34557176,  0.0810577 ,\n",
       "        -0.72119063,  0.49358922, -0.18900928],\n",
       "       [ 1.1065816 ,  0.6761679 ,  0.33520514, -0.34557176,  0.0810577 ,\n",
       "        -0.72119063,  0.49358922, -0.18900928],\n",
       "       [ 1.1065816 ,  0.6761679 ,  0.33520514, -0.34557176,  0.0810577 ,\n",
       "        -0.72119063,  0.49358922, -0.18900928]], dtype=float32)>"
      ]
     },
     "execution_count": 5,
     "metadata": {},
     "output_type": "execute_result"
    }
   ],
   "source": [
    "ffn = PositionWiseFFN(4, 8)\n",
    "ffn(tf.ones((2, 3, 4)))[0]"
   ]
  },
  {
   "cell_type": "markdown",
   "metadata": {},
   "source": [
    "## Residual connection and layer normalization"
   ]
  },
  {
   "cell_type": "code",
   "execution_count": 6,
   "metadata": {},
   "outputs": [
    {
     "name": "stdout",
     "output_type": "stream",
     "text": [
      "layer norm: tf.Tensor(\n",
      "[[-0.998006   0.9980061]\n",
      " [-0.9980061  0.998006 ]], shape=(2, 2), dtype=float32) \n",
      "batch norm: tf.Tensor(\n",
      "[[-0.998006   -0.9980061 ]\n",
      " [ 0.9980061   0.99800587]], shape=(2, 2), dtype=float32)\n"
     ]
    }
   ],
   "source": [
    "ln = tf.keras.layers.LayerNormalization()\n",
    "bn = tf.keras.layers.BatchNormalization()\n",
    "X = tf.constant([[1, 2], [2, 3]], dtype = tf.float32)\n",
    "print('layer norm:', ln(X), '\\nbatch norm:', bn(X, training = True))"
   ]
  },
  {
   "cell_type": "code",
   "execution_count": 7,
   "metadata": {},
   "outputs": [],
   "source": [
    "class AddNorm(tf.keras.layers.Layer):\n",
    "    def __init__(self, normalized_shape, dropout, **kwargs):\n",
    "        super().__init__(**kwargs)\n",
    "        self.dropout = tf.keras.layers.Dropout(dropout)\n",
    "        self.ln = tf.keras.layers.LayerNormalization(normalized_shape)\n",
    "        \n",
    "    def call(self, X, Y, **kwargs):\n",
    "        return self.ln(self.dropout(Y, **kwargs) + X)"
   ]
  },
  {
   "cell_type": "code",
   "execution_count": 8,
   "metadata": {},
   "outputs": [
    {
     "data": {
      "text/plain": [
       "TensorShape([2, 3, 4])"
      ]
     },
     "execution_count": 8,
     "metadata": {},
     "output_type": "execute_result"
    }
   ],
   "source": [
    "add_norm = AddNorm([1, 2], 0.5) # Normalized_shape is: [i for i in range(len(input.shape))][1:]\n",
    "add_norm(tf.ones((2, 3, 4)), tf.ones((2, 3, 4)), training = False).shape"
   ]
  },
  {
   "cell_type": "markdown",
   "metadata": {},
   "source": [
    "## Encoder"
   ]
  },
  {
   "cell_type": "code",
   "execution_count": 9,
   "metadata": {},
   "outputs": [],
   "source": [
    "class EncoderBlock(tf.keras.layers.Layer):\n",
    "    def __init__(self, key_size, query_size, value_size, num_hiddens,\n",
    "                 norm_shape, ffn_num_hiddens, num_heads, dropout, bias = False, **kwargs):\n",
    "        super().__init__(**kwargs)\n",
    "        self.attention = MultiHeadAttention(key_size, query_size, value_size, num_hiddens,\n",
    "                                            num_heads, dropout, bias)\n",
    "        self.addnorm1 = AddNorm(norm_shape, dropout)\n",
    "        self.ffn = PositionWiseFFN(ffn_num_hiddens, num_hiddens)\n",
    "        self.addnorm2 = AddNorm(norm_shape, dropout)\n",
    "        \n",
    "    def call(self, X, valid_lens, **kwargs):\n",
    "        Y = self.addnorm1(X, self.attention(X, X, X, valid_lens, **kwargs), **kwargs)\n",
    "        return self.addnorm2(Y, self.ffn(Y), **kwargs)"
   ]
  },
  {
   "cell_type": "code",
   "execution_count": 10,
   "metadata": {},
   "outputs": [
    {
     "data": {
      "text/plain": [
       "TensorShape([2, 100, 24])"
      ]
     },
     "execution_count": 10,
     "metadata": {},
     "output_type": "execute_result"
    }
   ],
   "source": [
    "X = tf.ones((2, 100, 24))\n",
    "valid_lens = tf.constant([3, 2])\n",
    "norm_shape = [i for i in range(len(X.shape))][1:]\n",
    "encoder_blk = EncoderBlock(24, 24, 24, 24, norm_shape, 48, 8, 0.5)\n",
    "encoder_blk(X, valid_lens, training = False).shape"
   ]
  },
  {
   "cell_type": "code",
   "execution_count": 11,
   "metadata": {},
   "outputs": [],
   "source": [
    "class TransformerEncoder(Encoder):\n",
    "    def __init__(self, vocab_size, key_size, query_size, value_size, num_hiddens, norm_shape,\n",
    "                 ffn_num_hiddens, num_heads, num_layers, dropout, bias = False, **kwargs):\n",
    "        super().__init__(**kwargs)\n",
    "        self.num_hiddens = num_hiddens\n",
    "        self.embedding = tf.keras.layers.Embedding(vocab_size, num_hiddens)\n",
    "        self.pos_encoding = PositionalEncoding(num_hiddens, dropout)\n",
    "        self.blks = [EncoderBlock(key_size, query_size, value_size, num_hiddens, norm_shape,\n",
    "                                  ffn_num_hiddens, num_heads, dropout, bias) for _ in range(num_layers)]\n",
    "        \n",
    "    def call(self, X, valid_lens, **kwargs):\n",
    "        # Since positional encoding values are between -1 and 1, the embedding\n",
    "        # values are multiplied by the square root of the embedding dimension\n",
    "        # to rescale before they are summed up\n",
    "        X = self.pos_encoding(self.embedding(X) * tf.math.sqrt(tf.cast(self.num_hiddens, dtype = tf.float32)), **kwargs)\n",
    "        self.attention_weights = [None] * len(self.blks)\n",
    "        for i, blk in enumerate(self.blks):\n",
    "            X = blk(X, valid_lens, **kwargs)\n",
    "            self.attention_weights[i] = blk.attention.attention.attention_weights\n",
    "        return X"
   ]
  },
  {
   "cell_type": "code",
   "execution_count": 12,
   "metadata": {},
   "outputs": [
    {
     "data": {
      "text/plain": [
       "TensorShape([2, 100, 24])"
      ]
     },
     "execution_count": 12,
     "metadata": {},
     "output_type": "execute_result"
    }
   ],
   "source": [
    "encoder = TransformerEncoder(200, 24, 24, 24, 24, [1, 2], 48, 8, 2, 0.5)\n",
    "encoder(tf.ones((2, 100)), valid_lens, training = False).shape"
   ]
  },
  {
   "cell_type": "code",
   "execution_count": 13,
   "metadata": {},
   "outputs": [],
   "source": [
    "class DecoderBlock(tf.keras.layers.Layer):\n",
    "    # The `i`-th block in the decoder\n",
    "    def __init__(self, key_size, query_size, value_size, num_hiddens,\n",
    "                 norm_shape, ffn_num_hiddens, num_heads, dropout, i, **kwargs):\n",
    "        super().__init__(**kwargs)\n",
    "        self.i = i\n",
    "        self.attention1 = MultiHeadAttention(key_size, query_size, value_size, num_hiddens, num_heads, dropout)\n",
    "        self.addnorm1 = AddNorm(norm_shape, dropout)\n",
    "        self.attention2 = MultiHeadAttention(key_size, query_size, value_size, num_hiddens, num_heads, dropout)\n",
    "        self.addnorm2 = AddNorm(norm_shape, dropout)\n",
    "        self.ffn = PositionWiseFFN(ffn_num_hiddens, num_hiddens)\n",
    "        self.addnorm3 = AddNorm(norm_shape, dropout)\n",
    "        \n",
    "    def call(self, X, state, **kwargs):\n",
    "        enc_outputs, enc_valid_lens = state[0], state[1]\n",
    "        # During training, all the tokens of any output sequence are processed\n",
    "        # at the same time, so `state[2][self.i]` is `None` as initialized.\n",
    "        # When decoding any output sequence token by token during prediction,\n",
    "        # `state[2][self.i]` contains representations of the decoded output at\n",
    "        # the `i`-th block up to the current time step\n",
    "        if state[2][self.i] is None:\n",
    "            key_values = X\n",
    "        else:\n",
    "            key_values = tf.concat((state[2][self.i], X), axis = 1)\n",
    "        state[2][self.i] = key_values\n",
    "        if kwargs[\"training\"]:\n",
    "            batch_size, num_steps, _ = X.shape\n",
    "            # Shape of `dec_valid_lens`: (`batch_size`, `num_steps`), where\n",
    "            # every row is [1, 2, ..., `num_steps`]\n",
    "            dec_valid_lens = tf.repeat(tf.reshape(tf.range(1, num_steps + 1),\n",
    "                                                 shape = (-1, num_steps)), repeats = batch_size, axis = 0)\n",
    "\n",
    "        else:\n",
    "            dec_valid_lens = None\n",
    "            \n",
    "        # Self-attention\n",
    "        X2 = self.attention1(X, key_values, key_values, dec_valid_lens, **kwargs)\n",
    "        Y = self.addnorm1(X, X2, **kwargs)\n",
    "        # Encoder-decoder attention. Shape of `enc_outputs`: (`batch_size`, `num_steps`, `num_hiddens`)\n",
    "        Y2 = self.attention2(Y, enc_outputs, enc_outputs, enc_valid_lens, **kwargs)\n",
    "        Z = self.addnorm2(Y, Y2, **kwargs)\n",
    "        return self.addnorm3(Z, self.ffn(Z), **kwargs), state"
   ]
  },
  {
   "cell_type": "code",
   "execution_count": 14,
   "metadata": {},
   "outputs": [
    {
     "data": {
      "text/plain": [
       "TensorShape([2, 100, 24])"
      ]
     },
     "execution_count": 14,
     "metadata": {},
     "output_type": "execute_result"
    }
   ],
   "source": [
    "decoder_blk = DecoderBlock(24, 24, 24, 24, [1, 2], 48, 8, 0.5, 0)\n",
    "X = tf.ones((2, 100, 24))\n",
    "state = [encoder_blk(X, valid_lens), valid_lens, [None]]\n",
    "decoder_blk(X, state, training = False)[0].shape"
   ]
  },
  {
   "cell_type": "code",
   "execution_count": 15,
   "metadata": {},
   "outputs": [],
   "source": [
    "class TransformerDecoder(AttentionDecoder):\n",
    "    def __init__(self, vocab_size, key_size, query_size, value_size,\n",
    "                 num_hiddens, norm_shape, ffn_num_hidens, num_heads, num_layers, dropout, **kwargs):\n",
    "        super().__init__(**kwargs)\n",
    "        self.num_hiddens = num_hiddens\n",
    "        self.num_layers = num_layers\n",
    "        self.embedding = tf.keras.layers.Embedding(vocab_size, num_hiddens)\n",
    "        self.pos_encoding = PositionalEncoding(num_hiddens, dropout)\n",
    "        self.blks = [DecoderBlock(key_size, query_size, value_size, num_hiddens, norm_shape,\n",
    "                                  ffn_num_hiddens, num_heads, dropout, i) for i in range(num_layers)]\n",
    "        self.dense = tf.keras.layers.Dense(vocab_size)\n",
    "        \n",
    "    def init_state(self, enc_outputs, enc_valid_lens, *args):\n",
    "        return [enc_outputs, enc_valid_lens, [None] * self.num_layers]\n",
    "    \n",
    "    def call(self, X, state, **kwargs):\n",
    "        X = self.pos_encoding(self.embedding(X) * tf.math.sqrt(tf.cast(self.num_hiddens, dtype = tf.float32)), **kwargs)\n",
    "        self._attention_weights = [[None] * len(self.blks) for _ in range(2)]  # 2 Attention layers in decoder\n",
    "        for i, blk in enumerate(self.blks):\n",
    "            X, state = blk(X, state, **kwargs)\n",
    "            # Decoder self-attention weights\n",
    "            self._attention_weights[0][i] = blk.attention1.attention.attention_weights\n",
    "            # Encoder-decoder attention weights\n",
    "            self._attention_weights[1][i] = blk.attention2.attention.attention_weights\n",
    "        return self.dense(X), state\n",
    "    \n",
    "    @property\n",
    "    def attention_weights(self):\n",
    "        return self._attention_weights"
   ]
  },
  {
   "cell_type": "markdown",
   "metadata": {},
   "source": [
    "## Training"
   ]
  },
  {
   "cell_type": "code",
   "execution_count": 16,
   "metadata": {},
   "outputs": [],
   "source": [
    "num_hiddens, num_layers, dropout, batch_size, num_steps = 32, 2, 0.1, 64, 10\n",
    "lr, num_epochs, device = 0.005, 200, try_gpu()\n",
    "ffn_num_hiddens, num_heads = 64, 4\n",
    "key_size, query_size, value_size = 32, 32, 32\n",
    "norm_shape = [2]\n",
    "\n",
    "train_iter, src_vocab, tgt_vocab = load_data_nmt(batch_size, num_steps)"
   ]
  },
  {
   "cell_type": "code",
   "execution_count": 17,
   "metadata": {},
   "outputs": [
    {
     "name": "stdout",
     "output_type": "stream",
     "text": [
      "loss 0.029, 1558.2 tokens/sec on /GPU:0\n"
     ]
    },
    {
     "data": {
      "image/png": "[encoded data removed]",
      "text/plain": [
       "<Figure size 252x180 with 1 Axes>"
      ]
     },
     "metadata": {
      "needs_background": "light"
     },
     "output_type": "display_data"
    }
   ],
   "source": [
    "encoder = TransformerEncoder(len(src_vocab), key_size, query_size, value_size, num_hiddens,\n",
    "                             norm_shape, ffn_num_hiddens, num_heads, num_layers, dropout)\n",
    "decoder = TransformerDecoder(len(tgt_vocab), key_size, query_size, value_size, num_hiddens,\n",
    "                             norm_shape, ffn_num_hiddens, num_heads, num_layers, dropout)\n",
    "net = EncoderDecoder(encoder, decoder)\n",
    "train_seq2seq(net, train_iter, lr, num_epochs, tgt_vocab, device)"
   ]
  },
  {
   "cell_type": "code",
   "execution_count": 18,
   "metadata": {},
   "outputs": [
    {
     "name": "stdout",
     "output_type": "stream",
     "text": [
      "go . => va !,  bleu 1.000\n",
      "i lost . => j'ai perdu .,  bleu 1.000\n",
      "he's calm . => il est paresseux .,  bleu 0.658\n",
      "i'm home . => je suis chez moi .,  bleu 1.000\n"
     ]
    }
   ],
   "source": [
    "engs = ['go .', \"i lost .\", 'he\\'s calm .', 'i\\'m home .']\n",
    "fras = ['va !', 'j\\'ai perdu .', 'il est calme .', 'je suis chez moi .']\n",
    "for eng, fra in zip(engs, fras):\n",
    "    translation, dec_attention_weight_seq = predict_seq2seq(net, eng, src_vocab, tgt_vocab, num_steps, True)\n",
    "    print(f'{eng} => {translation}, ', f'bleu {bleu(fra, translation, k=2):.3f}')"
   ]
  },
  {
   "cell_type": "code",
   "execution_count": 19,
   "metadata": {},
   "outputs": [
    {
     "data": {
      "text/plain": [
       "TensorShape([2, 4, 10, 10])"
      ]
     },
     "execution_count": 19,
     "metadata": {},
     "output_type": "execute_result"
    }
   ],
   "source": [
    "enc_attention_weights = tf.reshape(tf.concat(net.encoder.attention_weights, 0), shape = (num_layers, num_heads, -1, num_steps))\n",
    "enc_attention_weights.shape"
   ]
  },
  {
   "cell_type": "code",
   "execution_count": 20,
   "metadata": {},
   "outputs": [
    {
     "data": {
      "image/png": "[encoded data removed]",
      "text/plain": [
       "<Figure size 504x252 with 9 Axes>"
      ]
     },
     "metadata": {
      "needs_background": "light"
     },
     "output_type": "display_data"
    }
   ],
   "source": [
    "show_heatmaps(enc_attention_weights, xlabel='Key positions', ylabel='Query positions',\n",
    "              titles=['Head %d' % i for i in range(1, 5)], figsize=(7, 3.5))"
   ]
  },
  {
   "cell_type": "code",
   "execution_count": 21,
   "metadata": {},
   "outputs": [
    {
     "name": "stdout",
     "output_type": "stream",
     "text": [
      "(2, 4, 6, 10) (2, 4, 6, 10)\n"
     ]
    }
   ],
   "source": [
    "dec_attention_weights_2d = [head[0] for step in dec_attention_weight_seq for attn in step \n",
    "                            for blk in attn for head in blk]\n",
    "dec_attention_weights_filled = tf.convert_to_tensor(\n",
    "    np.asarray(pd.DataFrame(dec_attention_weights_2d).fillna(0.0).values).astype(np.float32))\n",
    "dec_attention_weights = tf.reshape(dec_attention_weights_filled, shape = (-1, 2, num_layers, num_heads, num_steps))\n",
    "dec_self_attention_weights, dec_inter_attention_weights = tf.transpose(dec_attention_weights, perm = (1, 2, 3, 0, 4))\n",
    "print(dec_self_attention_weights.shape, dec_inter_attention_weights.shape)"
   ]
  },
  {
   "cell_type": "code",
   "execution_count": 22,
   "metadata": {},
   "outputs": [
    {
     "data": {
      "image/png": "[encoded data removed]",
      "text/plain": [
       "<Figure size 504x252 with 9 Axes>"
      ]
     },
     "metadata": {
      "needs_background": "light"
     },
     "output_type": "display_data"
    }
   ],
   "source": [
    "show_heatmaps(dec_self_attention_weights[:, :, :, :len(translation.split()) + 1], \n",
    "              xlabel='Key positions', ylabel='Query positions', \n",
    "              titles=['Head %d' % i for i in range(1, 5)], figsize=(7, 3.5))"
   ]
  },
  {
   "cell_type": "code",
   "execution_count": 23,
   "metadata": {},
   "outputs": [
    {
     "data": {
      "image/png": "[encoded data removed]",
      "text/plain": [
       "<Figure size 504x252 with 9 Axes>"
      ]
     },
     "metadata": {
      "needs_background": "light"
     },
     "output_type": "display_data"
    }
   ],
   "source": [
    "show_heatmaps(dec_inter_attention_weights, xlabel='Key positions', \n",
    "              ylabel='Query positions', titles=['Head %d' % i for i in range(1, 5)], figsize=(7, 3.5))"
   ]
  }
 ],
 "metadata": {
  "kernelspec": {
   "display_name": "tf_250_env",
   "language": "python",
   "name": "tf_250_env"
  },
  "language_info": {
   "codemirror_mode": {
    "name": "ipython",
    "version": 3
   },
   "file_extension": ".py",
   "mimetype": "text/x-python",
   "name": "python",
   "nbconvert_exporter": "python",
   "pygments_lexer": "ipython3",
   "version": "3.9.4"
  }
 },
 "nbformat": 4,
 "nbformat_minor": 4
}
