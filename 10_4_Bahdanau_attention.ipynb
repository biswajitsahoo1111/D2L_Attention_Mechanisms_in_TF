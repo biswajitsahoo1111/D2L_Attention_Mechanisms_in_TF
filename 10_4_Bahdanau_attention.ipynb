{
 "cells": [
  {
   "cell_type": "code",
   "execution_count": 1,
   "metadata": {},
   "outputs": [
    {
     "name": "stdout",
     "output_type": "stream",
     "text": [
      "Tensorflow Version:  2.4.0\n"
     ]
    }
   ],
   "source": [
    "import tensorflow as tf\n",
    "print(\"Tensorflow Version: \", tf.__version__)"
   ]
  },
  {
   "cell_type": "code",
   "execution_count": 2,
   "metadata": {},
   "outputs": [],
   "source": [
    "from saved_class_AdditiveAttention import AdditiveAttention\n",
    "from saved_func_sequence_mask import sequence_mask\n",
    "\n",
    "from saved_func_bleu import bleu\n",
    "from saved_func_try_gpu import try_gpu\n",
    "from saved_func_load_data_nmt import *\n",
    "from saved_func_train_seq2seq import train_seq2seq\n",
    "from saved_func_predict_seq2seq import predict_seq2seq\n",
    "from saved_func_show_heatmaps import show_heatmaps"
   ]
  },
  {
   "cell_type": "code",
   "execution_count": 3,
   "metadata": {},
   "outputs": [],
   "source": [
    "class Seq2SeqAttentionDecoder(tf.keras.layers.Layer):\n",
    "    def __init__(self, vocab_size, embed_size, num_hiddens, num_layers, dropout = 0, **kwargs):\n",
    "        super().__init__(**kwargs)\n",
    "        self.attention = AdditiveAttention(num_hiddens, num_hiddens, num_hiddens, dropout)\n",
    "        self.embedding = tf.keras.layers.Embedding(vocab_size, embed_size)\n",
    "        self.rnn = tf.keras.layers.RNN(tf.keras.layers.StackedRNNCells([tf.keras.layers.GRUCell(num_hiddens, dropout = dropout)\n",
    "                                                                        for _ in range(num_layers)]),\n",
    "                                      return_sequences = True, return_state = True)\n",
    "        self.dense = tf.keras.layers.Dense(vocab_size)\n",
    "        \n",
    "    def init_state(self, enc_outputs, enc_valid_lens, *args):\n",
    "        # Shape of `outputs`: (`batch_size`, `num_steps`, `num_hiddens`).\n",
    "        # Shape of `hidden_state[0]`: (`num_layers`, `batch_size`, `num_hiddens`)\n",
    "        outputs, hidden_state = enc_outputs\n",
    "        return (outputs, hidden_state, enc_valid_lens)\n",
    "    \n",
    "    def call(self, X, state, training):\n",
    "        # Shape of `enc_outputs`: (`batch_size`, `num_steps`, `num_hiddens`).\n",
    "        # Shape of `hidden_state[0]`: (`num_layers`, `batch_size`, `num_hiddens`)\n",
    "        enc_outputs, hidden_state, enc_valid_lens = state\n",
    "        # Shape of the output `X`: (`num_steps`, `batch_size`, `embed_size`)\n",
    "        X = self.embedding(X) # Input `X` has shape: (`batch_size`, `num_steps`)\n",
    "        X = tf.transpose(X, perm = (1, 0, 2))\n",
    "        outputs, self._attention_weights = [], []\n",
    "        for x in X:\n",
    "            # Shape of `query`: (`batch_size`, 1, `num_hiddens`)\n",
    "            query = tf.expand_dims(hidden_state[-1], axis = 1)\n",
    "            # Shape of `context`: (`batch_size, 1, `num_hiddens`)\n",
    "            context = self.attention(query, enc_outputs, enc_outputs, enc_valid_lens, training = training)\n",
    "            # Concatenate on the feature dimension\n",
    "            x = tf.concat((context, tf.expand_dims(x, axis = 1)), axis = -1)\n",
    "            out = self.rnn(x, hidden_state, training = training)\n",
    "            hidden_state = out[1:]\n",
    "            outputs.append(out[0])\n",
    "            self._attention_weights.append(self.attention.attention_weights)\n",
    "        # After fully-connected layer transformation, shape of `outputs`: (`batch_size`, `num_steps`, `vocab_size`)\n",
    "        outputs = self.dense(tf.concat(outputs, axis = 1))\n",
    "        return outputs, [enc_outputs, hidden_state, enc_valid_lens]\n",
    "    \n",
    "    def attention_weights(self):\n",
    "        return self._attention_weights"
   ]
  },
  {
   "cell_type": "code",
   "execution_count": 4,
   "metadata": {},
   "outputs": [],
   "source": [
    "class Seq2SeqEncoder(tf.keras.layers.Layer):\n",
    "    \"\"\"The RNN encoder for sequence to sequence learning.\"\"\"\n",
    "    def __init__(self, vocab_size, embed_size, num_hiddens, num_layers, dropout = 0, **kwargs): \n",
    "        super().__init__(*kwargs)\n",
    "        # Embedding layer\n",
    "        self.embedding = tf.keras.layers.Embedding(vocab_size, embed_size)\n",
    "        self.rnn = tf.keras.layers.RNN(tf.keras.layers.StackedRNNCells([tf.keras.layers.GRUCell(num_hiddens, dropout = dropout)\n",
    "                                                                        for _ in range(num_layers)]),\n",
    "                                       return_sequences = True, return_state = True)\n",
    "    \n",
    "    def call(self, X, training, *args):\n",
    "        # The input `X` shape: (`batch_size`, `num_steps`)\n",
    "        # The output `X` shape: (`batch_size`, `num_steps`, `embed_size`)\n",
    "        X = self.embedding(X)\n",
    "        output = self.rnn(X, training = training)\n",
    "        state = output[1:]\n",
    "        return output[0], state"
   ]
  },
  {
   "cell_type": "code",
   "execution_count": 5,
   "metadata": {},
   "outputs": [
    {
     "name": "stdout",
     "output_type": "stream",
     "text": [
      "(4, 7, 10) 3 (4, 7, 16) 2 (4, 16)\n"
     ]
    }
   ],
   "source": [
    "encoder = Seq2SeqEncoder(vocab_size=10, embed_size=8, num_hiddens=16, num_layers=2)\n",
    "decoder = Seq2SeqAttentionDecoder(vocab_size=10, embed_size=8, num_hiddens=16, num_layers=2)\n",
    "X = tf.zeros((4,7))\n",
    "state = decoder.init_state(encoder(X, training = False), None)\n",
    "output, state = decoder(X, state, training = False)\n",
    "print(output.shape, len(state), state[0].shape, len(state[1]), state[1][0].shape)"
   ]
  },
  {
   "cell_type": "markdown",
   "metadata": {},
   "source": [
    "## Encoder-Decoder model"
   ]
  },
  {
   "cell_type": "code",
   "execution_count": 6,
   "metadata": {},
   "outputs": [],
   "source": [
    "class EncoderDecoder(tf.keras.Model):\n",
    "    def __init__(self, src_vocab_len, embed_size, num_hiddens, num_layers, tgt_vocab_len, dropout, **kwargs):\n",
    "        super().__init__(**kwargs)\n",
    "        self.encoder = Seq2SeqEncoder(src_vocab_len, embed_size, num_hiddens, num_layers, dropout)\n",
    "        self.decoder = Seq2SeqAttentionDecoder(tgt_vocab_len, embed_size, num_hiddens, num_layers, dropout)\n",
    "        \n",
    "    def call(self, enc_X, dec_X, valid_len, training):\n",
    "        enc_outputs = self.encoder(enc_X, training = training)\n",
    "        dec_state = self.decoder.init_state(enc_outputs, valid_len)\n",
    "        return self.decoder(dec_X, dec_state, training = training)"
   ]
  },
  {
   "cell_type": "markdown",
   "metadata": {},
   "source": [
    "## Training"
   ]
  },
  {
   "cell_type": "code",
   "execution_count": 7,
   "metadata": {},
   "outputs": [
    {
     "name": "stdout",
     "output_type": "stream",
     "text": [
      "loss 0.026, 387.8 tokens/sec on /GPU:0\n"
     ]
    },
    {
     "data": {
      "image/png": "[encoded data removed]",
      "text/plain": [
       "<Figure size 252x180 with 1 Axes>"
      ]
     },
     "metadata": {
      "needs_background": "light"
     },
     "output_type": "display_data"
    }
   ],
   "source": [
    "embed_size, num_hiddens, num_layers, dropout = 32, 32, 2, 0.1\n",
    "batch_size, num_steps = 64, 10\n",
    "lr, num_epochs, device = 0.005, 250, try_gpu()\n",
    "\n",
    "train_iter, src_vocab, tgt_vocab = load_data_nmt(batch_size, num_steps)\n",
    "net = EncoderDecoder(len(src_vocab), embed_size, num_hiddens, num_layers, len(tgt_vocab), dropout)\n",
    "train_seq2seq(net, train_iter, lr, num_epochs, tgt_vocab, device)"
   ]
  },
  {
   "cell_type": "code",
   "execution_count": 8,
   "metadata": {},
   "outputs": [
    {
     "name": "stdout",
     "output_type": "stream",
     "text": [
      "go . => va !,  bleu 1.000\n",
      "i lost . => j'ai perdu .,  bleu 1.000\n",
      "he's calm . => il est mouillã© .,  bleu 0.658\n",
      "i'm home . => je suis chez moi .,  bleu 1.000\n"
     ]
    }
   ],
   "source": [
    "engs = ['go .', \"i lost .\", 'he\\'s calm .', 'i\\'m home .']\n",
    "fras = ['va !', 'j\\'ai perdu .', 'il est calme .', 'je suis chez moi .']\n",
    "for eng, fra in zip(engs, fras):\n",
    "    translation, dec_attention_weight_seq = predict_seq2seq(net, eng, src_vocab, tgt_vocab, num_steps, True)\n",
    "    print(f'{eng} => {translation}, ',\n",
    "          f'bleu {bleu(fra, translation, k=2):.3f}')"
   ]
  },
  {
   "cell_type": "code",
   "execution_count": 9,
   "metadata": {},
   "outputs": [],
   "source": [
    "attention_weights = tf.reshape(tf.concat([step[0][0][0] for step in dec_attention_weight_seq], axis = 0), \n",
    "                               shape = (1, 1, -1, num_steps))"
   ]
  },
  {
   "cell_type": "code",
   "execution_count": 10,
   "metadata": {},
   "outputs": [
    {
     "data": {
      "image/png": "[encoded data removed]",
      "text/plain": [
       "<Figure size 180x180 with 2 Axes>"
      ]
     },
     "metadata": {
      "needs_background": "light"
     },
     "output_type": "display_data"
    }
   ],
   "source": [
    "show_heatmaps(attention_weights[:, :, :, :len(engs[-1].split()) + 1],\n",
    "              xlabel='Key posistions', ylabel='Query posistions')"
   ]
  }
 ],
 "metadata": {
  "kernelspec": {
   "display_name": "tf_24_env",
   "language": "python",
   "name": "tf_24_env"
  },
  "language_info": {
   "codemirror_mode": {
    "name": "ipython",
    "version": 3
   },
   "file_extension": ".py",
   "mimetype": "text/x-python",
   "name": "python",
   "nbconvert_exporter": "python",
   "pygments_lexer": "ipython3",
   "version": "3.8.5"
  }
 },
 "nbformat": 4,
 "nbformat_minor": 4
}
