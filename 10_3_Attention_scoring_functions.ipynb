{
 "cells": [
  {
   "cell_type": "code",
   "execution_count": 1,
   "metadata": {},
   "outputs": [
    {
     "name": "stdout",
     "output_type": "stream",
     "text": [
      "Tensorflow Version:  2.4.1\n"
     ]
    }
   ],
   "source": [
    "import tensorflow as tf\n",
    "print(\"Tensorflow Version: \", tf.__version__)"
   ]
  },
  {
   "cell_type": "code",
   "execution_count": 2,
   "metadata": {},
   "outputs": [],
   "source": [
    "from saved_func_show_heatmaps import show_heatmaps"
   ]
  },
  {
   "cell_type": "markdown",
   "metadata": {},
   "source": [
    "## Masked softmax operation"
   ]
  },
  {
   "cell_type": "code",
   "execution_count": 3,
   "metadata": {},
   "outputs": [],
   "source": [
    "def sequence_mask(X, valid_len, value = 0):\n",
    "    \"\"\"Mask irrelevant entries in sequences.\"\"\"\n",
    "    maxlen = X.shape[1]\n",
    "    mask = (tf.range(start = 0, limit = maxlen, dtype = tf.float32)[None, :] < tf.cast(valid_len[:, None],\n",
    "                                                                                       dtype = tf.float32)).numpy()\n",
    "    X = X.numpy()\n",
    "    X[~mask] = value\n",
    "    return tf.constant(X)"
   ]
  },
  {
   "cell_type": "code",
   "execution_count": 4,
   "metadata": {},
   "outputs": [],
   "source": [
    "def masked_softmax(X, valid_lens):\n",
    "    \"\"\"X: 3D tensor\n",
    "       valid_lens: 1D or 2D tensor\n",
    "       When valid_lens is 1D, its `len(valid_lens)` should be same as `X.shape[0]`.\n",
    "       When valid_lens is 2D, `valid_lens.shape` should be same as `X.shape[:2]`.\n",
    "    \"\"\"\n",
    "    if valid_lens is None:\n",
    "        return tf.nn.softmax(X, axis = -1)\n",
    "    else:\n",
    "        shape = X.shape\n",
    "        if len(valid_lens.shape) == 1:\n",
    "            if (len(valid_lens) == X.shape[0]): \n",
    "                valid_lens = tf.repeat(valid_lens, repeats = shape[1])\n",
    "            else:\n",
    "                print(\"Valid_lens shape is incompatible with input. Read docstring of `masked_softmax` function.\")\n",
    "        else:\n",
    "            if (valid_lens.shape == X.shape[:2]):\n",
    "                valid_lens = tf.reshape(valid_lens, shape = -1)\n",
    "            else:\n",
    "                print(\"Valid_lens shape is incompatible with input. Read docstring of `masked_softmax` function.\")\n",
    "            \n",
    "        \n",
    "        X = sequence_mask(tf.reshape(X, shape = (-1, shape[-1])), valid_lens, value=-1e6)    \n",
    "        return tf.nn.softmax(tf.reshape(X, shape = shape), axis = -1)"
   ]
  },
  {
   "cell_type": "code",
   "execution_count": 5,
   "metadata": {},
   "outputs": [
    {
     "data": {
      "text/plain": [
       "<tf.Tensor: shape=(2, 2, 4), dtype=float32, numpy=\n",
       "array([[[0.3916409 , 0.6083591 , 0.        , 0.        ],\n",
       "        [0.50549453, 0.49450547, 0.        , 0.        ]],\n",
       "\n",
       "       [[0.51510614, 0.26503137, 0.21986245, 0.        ],\n",
       "        [0.2503518 , 0.45823228, 0.2914159 , 0.        ]]], dtype=float32)>"
      ]
     },
     "execution_count": 5,
     "metadata": {},
     "output_type": "execute_result"
    }
   ],
   "source": [
    "masked_softmax(tf.random.uniform(shape = (2, 2, 4)), tf.constant([2, 3]))"
   ]
  },
  {
   "cell_type": "code",
   "execution_count": 6,
   "metadata": {},
   "outputs": [
    {
     "data": {
      "text/plain": [
       "<tf.Tensor: shape=(3, 2, 4), dtype=float32, numpy=\n",
       "array([[[1.        , 0.        , 0.        , 0.        ],\n",
       "        [0.2759355 , 0.45967767, 0.26438686, 0.        ]],\n",
       "\n",
       "       [[0.6735375 , 0.32646254, 0.        , 0.        ],\n",
       "        [0.17813917, 0.27542904, 0.19633816, 0.3500936 ]],\n",
       "\n",
       "       [[1.        , 0.        , 0.        , 0.        ],\n",
       "        [0.5281537 , 0.4718463 , 0.        , 0.        ]]], dtype=float32)>"
      ]
     },
     "execution_count": 6,
     "metadata": {},
     "output_type": "execute_result"
    }
   ],
   "source": [
    "masked_softmax(tf.random.uniform((3, 2, 4)), tf.constant([[1, 3], [2, 4], [1, 2]]))"
   ]
  },
  {
   "cell_type": "markdown",
   "metadata": {},
   "source": [
    "## Additive attention\n",
    "$$f(q, (k_1, v_1), (k_2, v_2), ..., (k_m, v_m)) = \\Sigma_{i = 1}^n{\\alpha{(q, k_i)}v_i}$$\n",
    "$\\mathbf{q}\\in \\mathbb{R}^q$,$\\mathbf{k}_i\\in \\mathbb{R}^k$, $\\mathbf{v}_i\\in \\mathbb{R}^v$\n",
    "\n",
    "$$\\alpha(\\mathbf{q}, \\mathbf{k}_i) = softmax(a(\\mathbf{q}, \\mathbf{k}_i)) = \\frac{exp(a(\\mathbf{q}, \\mathbf{k}_i))}\n",
    "{\\Sigma_{j=1}^nexp(a(\\mathbf{q}, \\mathbf{k}_j))}$$\n",
    "\n",
    "Attention weights = $\\alpha{(q, k_i)}$. In addtive attention,\n",
    "$$a(\\mathbf{q}, \\mathbf{k}) = \\mathbf{w}_v^Ttanh(\\mathbf{W}_q\\mathbf{q} + \\mathbf{W}_k\\mathbf{k}) \\in \\mathbb{R}$$"
   ]
  },
  {
   "cell_type": "code",
   "execution_count": 7,
   "metadata": {},
   "outputs": [],
   "source": [
    "class AdditiveAttention(tf.keras.layers.Layer):\n",
    "    def __init__(self, key_size, query_size, num_hiddens, dropout, **kwargs):\n",
    "        super().__init__(**kwargs)\n",
    "        self.W_k = tf.keras.layers.Dense(num_hiddens, use_bias = False)\n",
    "        self.W_q = tf.keras.layers.Dense(num_hiddens, use_bias = False)\n",
    "        self.w_v = tf.keras.layers.Dense(1, use_bias = False)\n",
    "        self.dropout = tf.keras.layers.Dropout(dropout)\n",
    "        \n",
    "    def call(self, queries, keys, values, valid_lens, **kwargs):\n",
    "        queries, keys = self.W_q(queries), self.W_k(keys)\n",
    "        # After dimension expansion, shape of `queries`: (`batch_size`, no. of\n",
    "        # queries, 1, `num_hiddens`) and shape of `keys`: (`batch_size`, 1,\n",
    "        # no. of key-value pairs, `num_hiddens`). Sum them up with\n",
    "        # broadcasting\n",
    "        features = tf.expand_dims(queries, axis = 2) + tf.expand_dims(keys, axis = 1)\n",
    "        features = tf.nn.tanh(features)\n",
    "        # There is only one output of `self.w_v`, so we remove the last\n",
    "        # one-dimensional entry from the shape. Shape of `scores`:\n",
    "        # (`batch_size`, no. of queries, no. of key-value pairs)\n",
    "        scores = tf.squeeze(self.w_v(features), axis = -1)\n",
    "        self.attention_weights = masked_softmax(scores, valid_lens)\n",
    "        # Shape of `values`: (`batch_size`, no. of key-value pairs, value\n",
    "        # dimension)\n",
    "        return tf.matmul(self.dropout(self.attention_weights, **kwargs), values)"
   ]
  },
  {
   "cell_type": "code",
   "execution_count": 8,
   "metadata": {},
   "outputs": [
    {
     "data": {
      "text/plain": [
       "<tf.Tensor: shape=(2, 1, 4), dtype=float32, numpy=\n",
       "array([[[ 2.,  3.,  4.,  5.]],\n",
       "\n",
       "       [[10., 11., 12., 13.]]], dtype=float32)>"
      ]
     },
     "execution_count": 8,
     "metadata": {},
     "output_type": "execute_result"
    }
   ],
   "source": [
    "queries, keys = tf.random.normal(shape = (2, 1, 20)), tf.ones((2, 10, 2))\n",
    "# The two value matrices in the `values` minibatch are identical\n",
    "values = tf.repeat(tf.reshape(tf.range(40, dtype=tf.float32), shape = (1, 10, 4)), repeats = 2, axis = 0)\n",
    "valid_lens = tf.constant([2, 6])\n",
    "\n",
    "attention = AdditiveAttention(key_size=2, query_size=20, num_hiddens=8,\n",
    "                              dropout=0.1)\n",
    "attention(queries, keys, values, valid_lens, training = False)"
   ]
  },
  {
   "cell_type": "code",
   "execution_count": 9,
   "metadata": {},
   "outputs": [
    {
     "data": {
      "text/plain": [
       "<tf.Tensor: shape=(2, 1, 10), dtype=float32, numpy=\n",
       "array([[[0.5       , 0.5       , 0.        , 0.        , 0.        ,\n",
       "         0.        , 0.        , 0.        , 0.        , 0.        ]],\n",
       "\n",
       "       [[0.16666667, 0.16666667, 0.16666667, 0.16666667, 0.16666667,\n",
       "         0.16666667, 0.        , 0.        , 0.        , 0.        ]]],\n",
       "      dtype=float32)>"
      ]
     },
     "execution_count": 9,
     "metadata": {},
     "output_type": "execute_result"
    }
   ],
   "source": [
    "attention.attention_weights"
   ]
  },
  {
   "cell_type": "code",
   "execution_count": 10,
   "metadata": {},
   "outputs": [
    {
     "data": {
      "image/png": "[encoded data removed]",
      "text/plain": [
       "<Figure size 180x180 with 2 Axes>"
      ]
     },
     "metadata": {
      "needs_background": "light"
     },
     "output_type": "display_data"
    }
   ],
   "source": [
    "show_heatmaps(tf.expand_dims(tf.reshape(attention.attention_weights, shape = (1,2,10)), axis = 0),\n",
    "              xlabel='Keys',\n",
    "              ylabel='Queries')"
   ]
  },
  {
   "cell_type": "markdown",
   "metadata": {},
   "source": [
    "## Scaled dot-product attention\n",
    "$$a(\\mathbf{q}, \\mathbf{k}) = \\mathbf{q}^T\\mathbf{k}/\\sqrt{d}$$\n",
    "For $n$ queries and $m$ key-value pairs (each of dimension $d$), \n",
    "$$softmax(\\frac{\\mathbf{Q}\\mathbf{K}^T}{\\sqrt{d}})\\mathbf{V} \\in \\mathbb{R}^{n\\times v}$$"
   ]
  },
  {
   "cell_type": "code",
   "execution_count": 11,
   "metadata": {},
   "outputs": [],
   "source": [
    "class DotProductAttention(tf.keras.layers.Layer):\n",
    "    \"\"\"Scaled dot product attention.\"\"\"\n",
    "    def __init__(self, dropout, **kwargs):\n",
    "        super().__init__(**kwargs)\n",
    "        self.dropout = tf.keras.layers.Dropout(dropout)\n",
    "        \n",
    "    # Shape of `queries`: (`batch_size`, no. of queries, `d`)\n",
    "    # Shape of `keys`: (`batch_size`, no. of key-value pairs, `d`)\n",
    "    # Shape of `values`: (`batch_size`, no. of key-value pairs, value\n",
    "    # dimension)\n",
    "    # Shape of `valid_lens`: (`batch_size`,) or (`batch_size`, no. of queries)\n",
    "    def call(self, queries, keys, values, valid_lens, **kwargs):\n",
    "        d = queries.shape[-1]\n",
    "        scores = tf.matmul(queries, keys, transpose_b = True)/tf.math.sqrt(tf.cast(d, dtype = tf.float32))\n",
    "        self.attention_weights = masked_softmax(scores, valid_lens)\n",
    "        return tf.matmul(self.dropout(self.attention_weights, **kwargs), values)"
   ]
  },
  {
   "cell_type": "code",
   "execution_count": 12,
   "metadata": {},
   "outputs": [
    {
     "data": {
      "text/plain": [
       "<tf.Tensor: shape=(2, 1, 4), dtype=float32, numpy=\n",
       "array([[[ 2.,  3.,  4.,  5.]],\n",
       "\n",
       "       [[10., 11., 12., 13.]]], dtype=float32)>"
      ]
     },
     "execution_count": 12,
     "metadata": {},
     "output_type": "execute_result"
    }
   ],
   "source": [
    "queries = tf.random.normal(shape = (2, 1, 2))\n",
    "attention = DotProductAttention(dropout=0.5)\n",
    "attention(queries, keys, values, valid_lens, training = False)"
   ]
  },
  {
   "cell_type": "code",
   "execution_count": 13,
   "metadata": {},
   "outputs": [
    {
     "data": {
      "text/plain": [
       "<tf.Tensor: shape=(2, 1, 10), dtype=float32, numpy=\n",
       "array([[[0.5       , 0.5       , 0.        , 0.        , 0.        ,\n",
       "         0.        , 0.        , 0.        , 0.        , 0.        ]],\n",
       "\n",
       "       [[0.16666667, 0.16666667, 0.16666667, 0.16666667, 0.16666667,\n",
       "         0.16666667, 0.        , 0.        , 0.        , 0.        ]]],\n",
       "      dtype=float32)>"
      ]
     },
     "execution_count": 13,
     "metadata": {},
     "output_type": "execute_result"
    }
   ],
   "source": [
    "attention.attention_weights"
   ]
  },
  {
   "cell_type": "code",
   "execution_count": 14,
   "metadata": {},
   "outputs": [
    {
     "data": {
      "image/png": "[encoded data removed]",
      "text/plain": [
       "<Figure size 180x180 with 2 Axes>"
      ]
     },
     "metadata": {
      "needs_background": "light"
     },
     "output_type": "display_data"
    }
   ],
   "source": [
    "show_heatmaps(tf.expand_dims(tf.reshape(attention.attention_weights, shape = (1,2,10)), axis = 0),\n",
    "              xlabel='Keys',\n",
    "              ylabel='Queries')"
   ]
  }
 ],
 "metadata": {
  "kernelspec": {
   "display_name": "tf_241_gpu",
   "language": "python",
   "name": "tf_241_gpu"
  },
  "language_info": {
   "codemirror_mode": {
    "name": "ipython",
    "version": 3
   },
   "file_extension": ".py",
   "mimetype": "text/x-python",
   "name": "python",
   "nbconvert_exporter": "python",
   "pygments_lexer": "ipython3",
   "version": "3.8.8"
  }
 },
 "nbformat": 4,
 "nbformat_minor": 4
}
